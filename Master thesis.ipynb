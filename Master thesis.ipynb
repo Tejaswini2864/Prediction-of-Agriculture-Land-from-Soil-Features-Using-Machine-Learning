{
 "cells": [
  {
   "cell_type": "code",
   "execution_count": 1,
   "id": "c3c50ee5-35e1-4631-9650-58dfab6b55ed",
   "metadata": {},
   "outputs": [],
   "source": [
    "import numpy as np\n",
    "import pandas as pd\n",
    "import matplotlib\n",
    "import tensorflow\n",
    "import keras"
   ]
  },
  {
   "cell_type": "markdown",
   "id": "c2fb5482-46a4-4b30-bc3c-cde765092b11",
   "metadata": {},
   "source": [
    "Dataset reading"
   ]
  },
  {
   "cell_type": "code",
   "execution_count": 2,
   "id": "c356980d-aa3a-4855-8fcc-619d54441a18",
   "metadata": {},
   "outputs": [],
   "source": [
    "dataset = pd.read_csv('SoilDataset.csv')"
   ]
  },
  {
   "cell_type": "code",
   "execution_count": 3,
   "id": "73b8cc6e-87d6-4108-9775-75686180736f",
   "metadata": {},
   "outputs": [
    {
     "data": {
      "text/html": [
       "<div>\n",
       "<style scoped>\n",
       "    .dataframe tbody tr th:only-of-type {\n",
       "        vertical-align: middle;\n",
       "    }\n",
       "\n",
       "    .dataframe tbody tr th {\n",
       "        vertical-align: top;\n",
       "    }\n",
       "\n",
       "    .dataframe thead th {\n",
       "        text-align: right;\n",
       "    }\n",
       "</style>\n",
       "<table border=\"1\" class=\"dataframe\">\n",
       "  <thead>\n",
       "    <tr style=\"text-align: right;\">\n",
       "      <th></th>\n",
       "      <th>areasymbol</th>\n",
       "      <th>CoFIPS</th>\n",
       "      <th>mukey</th>\n",
       "      <th>musym</th>\n",
       "      <th>muname</th>\n",
       "      <th>muacres</th>\n",
       "      <th>Temp</th>\n",
       "      <th>tfact</th>\n",
       "      <th>nirrcapcl</th>\n",
       "      <th>nirrcapscl</th>\n",
       "      <th>...</th>\n",
       "      <th>Moisture</th>\n",
       "      <th>Humidity</th>\n",
       "      <th>scier</th>\n",
       "      <th>scifo</th>\n",
       "      <th>Slope</th>\n",
       "      <th>removal</th>\n",
       "      <th>Rem Res - ann avg</th>\n",
       "      <th>crop1</th>\n",
       "      <th>Rem Res - crop1</th>\n",
       "      <th>farmlndcl</th>\n",
       "    </tr>\n",
       "  </thead>\n",
       "  <tbody>\n",
       "    <tr>\n",
       "      <th>0</th>\n",
       "      <td>KS129</td>\n",
       "      <td>129</td>\n",
       "      <td>1382580</td>\n",
       "      <td>1510</td>\n",
       "      <td>Atchison clay loam, 3 to 6 percent slopes</td>\n",
       "      <td>15733</td>\n",
       "      <td>90</td>\n",
       "      <td>5</td>\n",
       "      <td>3</td>\n",
       "      <td>e</td>\n",
       "      <td>...</td>\n",
       "      <td>0.91</td>\n",
       "      <td>0.88</td>\n",
       "      <td>0.88</td>\n",
       "      <td>0.96</td>\n",
       "      <td>5</td>\n",
       "      <td>MHH</td>\n",
       "      <td>5,508.90</td>\n",
       "      <td>CG</td>\n",
       "      <td>5,508.90</td>\n",
       "      <td>1</td>\n",
       "    </tr>\n",
       "    <tr>\n",
       "      <th>1</th>\n",
       "      <td>KS129</td>\n",
       "      <td>129</td>\n",
       "      <td>1382580</td>\n",
       "      <td>1510</td>\n",
       "      <td>Atchison clay loam, 3 to 6 percent slopes</td>\n",
       "      <td>15733</td>\n",
       "      <td>90</td>\n",
       "      <td>5</td>\n",
       "      <td>3</td>\n",
       "      <td>e</td>\n",
       "      <td>...</td>\n",
       "      <td>1.56</td>\n",
       "      <td>2.44</td>\n",
       "      <td>0.99</td>\n",
       "      <td>0.97</td>\n",
       "      <td>5</td>\n",
       "      <td>NRH</td>\n",
       "      <td>0</td>\n",
       "      <td>CG</td>\n",
       "      <td>4,949.10</td>\n",
       "      <td>1</td>\n",
       "    </tr>\n",
       "    <tr>\n",
       "      <th>2</th>\n",
       "      <td>KS129</td>\n",
       "      <td>129</td>\n",
       "      <td>1382580</td>\n",
       "      <td>1510</td>\n",
       "      <td>Atchison clay loam, 3 to 6 percent slopes</td>\n",
       "      <td>15733</td>\n",
       "      <td>90</td>\n",
       "      <td>5</td>\n",
       "      <td>3</td>\n",
       "      <td>e</td>\n",
       "      <td>...</td>\n",
       "      <td>0.58</td>\n",
       "      <td>0.86</td>\n",
       "      <td>0.66</td>\n",
       "      <td>0.25</td>\n",
       "      <td>5</td>\n",
       "      <td>MHH</td>\n",
       "      <td>4,949.10</td>\n",
       "      <td>CG</td>\n",
       "      <td>4,949.10</td>\n",
       "      <td>1</td>\n",
       "    </tr>\n",
       "    <tr>\n",
       "      <th>3</th>\n",
       "      <td>KS129</td>\n",
       "      <td>129</td>\n",
       "      <td>1382580</td>\n",
       "      <td>1510</td>\n",
       "      <td>Atchison clay loam, 3 to 6 percent slopes</td>\n",
       "      <td>15733</td>\n",
       "      <td>90</td>\n",
       "      <td>5</td>\n",
       "      <td>3</td>\n",
       "      <td>e</td>\n",
       "      <td>...</td>\n",
       "      <td>1.10</td>\n",
       "      <td>2.07</td>\n",
       "      <td>0.82</td>\n",
       "      <td>0.27</td>\n",
       "      <td>5</td>\n",
       "      <td>NRH</td>\n",
       "      <td>0</td>\n",
       "      <td>CG</td>\n",
       "      <td>4,949.10</td>\n",
       "      <td>1</td>\n",
       "    </tr>\n",
       "    <tr>\n",
       "      <th>4</th>\n",
       "      <td>KS129</td>\n",
       "      <td>129</td>\n",
       "      <td>1382581</td>\n",
       "      <td>5110</td>\n",
       "      <td>Atchison fine sandy loam, 1 to 3 percent slopes</td>\n",
       "      <td>62</td>\n",
       "      <td>70</td>\n",
       "      <td>5</td>\n",
       "      <td>3</td>\n",
       "      <td>e</td>\n",
       "      <td>...</td>\n",
       "      <td>0.78</td>\n",
       "      <td>0.51</td>\n",
       "      <td>0.97</td>\n",
       "      <td>0.96</td>\n",
       "      <td>1</td>\n",
       "      <td>MHH</td>\n",
       "      <td>5,508.90</td>\n",
       "      <td>CG</td>\n",
       "      <td>5,508.90</td>\n",
       "      <td>1</td>\n",
       "    </tr>\n",
       "    <tr>\n",
       "      <th>5</th>\n",
       "      <td>KS129</td>\n",
       "      <td>129</td>\n",
       "      <td>1382581</td>\n",
       "      <td>5110</td>\n",
       "      <td>Atchison fine sandy loam, 1 to 3 percent slopes</td>\n",
       "      <td>62</td>\n",
       "      <td>70</td>\n",
       "      <td>5</td>\n",
       "      <td>3</td>\n",
       "      <td>e</td>\n",
       "      <td>...</td>\n",
       "      <td>1.29</td>\n",
       "      <td>1.76</td>\n",
       "      <td>1.00</td>\n",
       "      <td>0.97</td>\n",
       "      <td>1</td>\n",
       "      <td>NRH</td>\n",
       "      <td>0</td>\n",
       "      <td>CG</td>\n",
       "      <td>4,949.10</td>\n",
       "      <td>1</td>\n",
       "    </tr>\n",
       "    <tr>\n",
       "      <th>6</th>\n",
       "      <td>KS129</td>\n",
       "      <td>129</td>\n",
       "      <td>1382581</td>\n",
       "      <td>5110</td>\n",
       "      <td>Atchison fine sandy loam, 1 to 3 percent slopes</td>\n",
       "      <td>62</td>\n",
       "      <td>70</td>\n",
       "      <td>5</td>\n",
       "      <td>3</td>\n",
       "      <td>e</td>\n",
       "      <td>...</td>\n",
       "      <td>0.48</td>\n",
       "      <td>0.50</td>\n",
       "      <td>0.91</td>\n",
       "      <td>0.25</td>\n",
       "      <td>1</td>\n",
       "      <td>MHH</td>\n",
       "      <td>4,949.10</td>\n",
       "      <td>CG</td>\n",
       "      <td>4,949.10</td>\n",
       "      <td>1</td>\n",
       "    </tr>\n",
       "    <tr>\n",
       "      <th>7</th>\n",
       "      <td>KS129</td>\n",
       "      <td>129</td>\n",
       "      <td>1382581</td>\n",
       "      <td>5110</td>\n",
       "      <td>Atchison fine sandy loam, 1 to 3 percent slopes</td>\n",
       "      <td>62</td>\n",
       "      <td>70</td>\n",
       "      <td>5</td>\n",
       "      <td>3</td>\n",
       "      <td>e</td>\n",
       "      <td>...</td>\n",
       "      <td>0.88</td>\n",
       "      <td>1.47</td>\n",
       "      <td>0.95</td>\n",
       "      <td>0.27</td>\n",
       "      <td>1</td>\n",
       "      <td>NRH</td>\n",
       "      <td>0</td>\n",
       "      <td>CG</td>\n",
       "      <td>4,949.10</td>\n",
       "      <td>1</td>\n",
       "    </tr>\n",
       "    <tr>\n",
       "      <th>8</th>\n",
       "      <td>KS129</td>\n",
       "      <td>129</td>\n",
       "      <td>1382582</td>\n",
       "      <td>1511</td>\n",
       "      <td>Atchison loam, 1 to 3 percent slopes</td>\n",
       "      <td>36516</td>\n",
       "      <td>85</td>\n",
       "      <td>5</td>\n",
       "      <td>3</td>\n",
       "      <td>e</td>\n",
       "      <td>...</td>\n",
       "      <td>0.78</td>\n",
       "      <td>0.51</td>\n",
       "      <td>0.94</td>\n",
       "      <td>0.96</td>\n",
       "      <td>1</td>\n",
       "      <td>MHH</td>\n",
       "      <td>5,508.90</td>\n",
       "      <td>CG</td>\n",
       "      <td>5,508.90</td>\n",
       "      <td>1</td>\n",
       "    </tr>\n",
       "    <tr>\n",
       "      <th>9</th>\n",
       "      <td>KS129</td>\n",
       "      <td>129</td>\n",
       "      <td>1382582</td>\n",
       "      <td>1511</td>\n",
       "      <td>Atchison loam, 1 to 3 percent slopes</td>\n",
       "      <td>36516</td>\n",
       "      <td>85</td>\n",
       "      <td>5</td>\n",
       "      <td>3</td>\n",
       "      <td>e</td>\n",
       "      <td>...</td>\n",
       "      <td>1.29</td>\n",
       "      <td>1.76</td>\n",
       "      <td>0.99</td>\n",
       "      <td>0.97</td>\n",
       "      <td>1</td>\n",
       "      <td>NRH</td>\n",
       "      <td>0</td>\n",
       "      <td>CG</td>\n",
       "      <td>4,949.10</td>\n",
       "      <td>1</td>\n",
       "    </tr>\n",
       "  </tbody>\n",
       "</table>\n",
       "<p>10 rows × 33 columns</p>\n",
       "</div>"
      ],
      "text/plain": [
       "  areasymbol  CoFIPS    mukey musym  \\\n",
       "0      KS129     129  1382580  1510   \n",
       "1      KS129     129  1382580  1510   \n",
       "2      KS129     129  1382580  1510   \n",
       "3      KS129     129  1382580  1510   \n",
       "4      KS129     129  1382581  5110   \n",
       "5      KS129     129  1382581  5110   \n",
       "6      KS129     129  1382581  5110   \n",
       "7      KS129     129  1382581  5110   \n",
       "8      KS129     129  1382582  1511   \n",
       "9      KS129     129  1382582  1511   \n",
       "\n",
       "                                            muname  muacres  Temp  tfact  \\\n",
       "0        Atchison clay loam, 3 to 6 percent slopes    15733    90      5   \n",
       "1        Atchison clay loam, 3 to 6 percent slopes    15733    90      5   \n",
       "2        Atchison clay loam, 3 to 6 percent slopes    15733    90      5   \n",
       "3        Atchison clay loam, 3 to 6 percent slopes    15733    90      5   \n",
       "4  Atchison fine sandy loam, 1 to 3 percent slopes       62    70      5   \n",
       "5  Atchison fine sandy loam, 1 to 3 percent slopes       62    70      5   \n",
       "6  Atchison fine sandy loam, 1 to 3 percent slopes       62    70      5   \n",
       "7  Atchison fine sandy loam, 1 to 3 percent slopes       62    70      5   \n",
       "8             Atchison loam, 1 to 3 percent slopes    36516    85      5   \n",
       "9             Atchison loam, 1 to 3 percent slopes    36516    85      5   \n",
       "\n",
       "   nirrcapcl nirrcapscl  ...  Moisture Humidity  scier scifo Slope removal  \\\n",
       "0          3          e  ...      0.91     0.88   0.88  0.96     5     MHH   \n",
       "1          3          e  ...      1.56     2.44   0.99  0.97     5     NRH   \n",
       "2          3          e  ...      0.58     0.86   0.66  0.25     5     MHH   \n",
       "3          3          e  ...      1.10     2.07   0.82  0.27     5     NRH   \n",
       "4          3          e  ...      0.78     0.51   0.97  0.96     1     MHH   \n",
       "5          3          e  ...      1.29     1.76   1.00  0.97     1     NRH   \n",
       "6          3          e  ...      0.48     0.50   0.91  0.25     1     MHH   \n",
       "7          3          e  ...      0.88     1.47   0.95  0.27     1     NRH   \n",
       "8          3          e  ...      0.78     0.51   0.94  0.96     1     MHH   \n",
       "9          3          e  ...      1.29     1.76   0.99  0.97     1     NRH   \n",
       "\n",
       "   Rem Res - ann avg  crop1  Rem Res - crop1 farmlndcl  \n",
       "0           5,508.90     CG         5,508.90         1  \n",
       "1                  0     CG         4,949.10         1  \n",
       "2           4,949.10     CG         4,949.10         1  \n",
       "3                  0     CG         4,949.10         1  \n",
       "4           5,508.90     CG         5,508.90         1  \n",
       "5                  0     CG         4,949.10         1  \n",
       "6           4,949.10     CG         4,949.10         1  \n",
       "7                  0     CG         4,949.10         1  \n",
       "8           5,508.90     CG         5,508.90         1  \n",
       "9                  0     CG         4,949.10         1  \n",
       "\n",
       "[10 rows x 33 columns]"
      ]
     },
     "execution_count": 3,
     "metadata": {},
     "output_type": "execute_result"
    }
   ],
   "source": [
    "dataset.head(10)"
   ]
  },
  {
   "cell_type": "code",
   "execution_count": 4,
   "id": "1cd78771-bab2-4942-acbe-156f2811f20e",
   "metadata": {},
   "outputs": [
    {
     "name": "stdout",
     "output_type": "stream",
     "text": [
      "<class 'pandas.core.frame.DataFrame'>\n",
      "RangeIndex: 34352 entries, 0 to 34351\n",
      "Data columns (total 33 columns):\n",
      " #   Column             Non-Null Count  Dtype  \n",
      "---  ------             --------------  -----  \n",
      " 0   areasymbol         34352 non-null  object \n",
      " 1   CoFIPS             34352 non-null  int64  \n",
      " 2   mukey              34352 non-null  int64  \n",
      " 3   musym              34352 non-null  object \n",
      " 4   muname             34352 non-null  object \n",
      " 5   muacres            34352 non-null  int64  \n",
      " 6   Temp               34352 non-null  int64  \n",
      " 7   tfact              34352 non-null  int64  \n",
      " 8   nirrcapcl          34352 non-null  int64  \n",
      " 9   nirrcapscl         34352 non-null  object \n",
      " 10  irrcapcl           34352 non-null  int64  \n",
      " 11  irrcapscl          34352 non-null  object \n",
      " 12  awc_r              34352 non-null  float64\n",
      " 13  texdesc            34352 non-null  object \n",
      " 14  texture            34352 non-null  object \n",
      " 15  rotation           34352 non-null  object \n",
      " 16  yield1             34352 non-null  int64  \n",
      " 17  yield2             34352 non-null  int64  \n",
      " 18  yield3             34352 non-null  int64  \n",
      " 19  tillage            34352 non-null  object \n",
      " 20  soil erosion       34352 non-null  float64\n",
      " 21  watereros          34352 non-null  float64\n",
      " 22  winderos           34352 non-null  float64\n",
      " 23  Moisture           34352 non-null  float64\n",
      " 24  Humidity           34352 non-null  float64\n",
      " 25  scier              34352 non-null  float64\n",
      " 26  scifo              34352 non-null  float64\n",
      " 27  Slope              34352 non-null  int64  \n",
      " 28  removal            34352 non-null  object \n",
      " 29  Rem Res - ann avg  34352 non-null  object \n",
      " 30  crop1              34352 non-null  object \n",
      " 31  Rem Res - crop1    34352 non-null  object \n",
      " 32  farmlndcl          34352 non-null  int64  \n",
      "dtypes: float64(8), int64(12), object(13)\n",
      "memory usage: 8.6+ MB\n"
     ]
    }
   ],
   "source": [
    "dataset.info()"
   ]
  },
  {
   "cell_type": "markdown",
   "id": "48055ab2-2117-4e17-bbb7-33fe00053217",
   "metadata": {},
   "source": [
    "Plotting Histogram"
   ]
  },
  {
   "cell_type": "code",
   "execution_count": 5,
   "id": "f64f1f89-6e72-43da-a67f-eb45a9b60e0e",
   "metadata": {},
   "outputs": [],
   "source": [
    "dataset = dataset.drop_duplicates()"
   ]
  },
  {
   "cell_type": "code",
   "execution_count": 6,
   "id": "f8807fb3-495f-4c92-895d-881e1251f1d3",
   "metadata": {},
   "outputs": [
    {
     "data": {
      "text/plain": [
       "(34352, 33)"
      ]
     },
     "execution_count": 6,
     "metadata": {},
     "output_type": "execute_result"
    }
   ],
   "source": [
    "dataset.shape"
   ]
  },
  {
   "cell_type": "markdown",
   "id": "35c605d2-3dc9-4f98-ae28-d5ddbc6393e7",
   "metadata": {},
   "source": [
    "Preprocessing"
   ]
  },
  {
   "cell_type": "code",
   "execution_count": 7,
   "id": "b89b9346-ce14-486b-b984-7faacf05fcf0",
   "metadata": {},
   "outputs": [],
   "source": [
    "from sklearn.preprocessing import StandardScaler, LabelEncoder\n",
    "label_encoders = {}\n",
    "for column in dataset.select_dtypes(include=['object']).columns:\n",
    "    label_encoders[column] = LabelEncoder()\n",
    "    dataset[column] = label_encoders[column].fit_transform(dataset[column])"
   ]
  },
  {
   "cell_type": "code",
   "execution_count": 8,
   "id": "c86f5027-bf24-4132-908f-43f980ea5cc4",
   "metadata": {},
   "outputs": [
    {
     "data": {
      "text/html": [
       "<div>\n",
       "<style scoped>\n",
       "    .dataframe tbody tr th:only-of-type {\n",
       "        vertical-align: middle;\n",
       "    }\n",
       "\n",
       "    .dataframe tbody tr th {\n",
       "        vertical-align: top;\n",
       "    }\n",
       "\n",
       "    .dataframe thead th {\n",
       "        text-align: right;\n",
       "    }\n",
       "</style>\n",
       "<table border=\"1\" class=\"dataframe\">\n",
       "  <thead>\n",
       "    <tr style=\"text-align: right;\">\n",
       "      <th></th>\n",
       "      <th>areasymbol</th>\n",
       "      <th>CoFIPS</th>\n",
       "      <th>mukey</th>\n",
       "      <th>musym</th>\n",
       "      <th>muname</th>\n",
       "      <th>muacres</th>\n",
       "      <th>Temp</th>\n",
       "      <th>tfact</th>\n",
       "      <th>nirrcapcl</th>\n",
       "      <th>nirrcapscl</th>\n",
       "      <th>...</th>\n",
       "      <th>Moisture</th>\n",
       "      <th>Humidity</th>\n",
       "      <th>scier</th>\n",
       "      <th>scifo</th>\n",
       "      <th>Slope</th>\n",
       "      <th>removal</th>\n",
       "      <th>Rem Res - ann avg</th>\n",
       "      <th>crop1</th>\n",
       "      <th>Rem Res - crop1</th>\n",
       "      <th>farmlndcl</th>\n",
       "    </tr>\n",
       "  </thead>\n",
       "  <tbody>\n",
       "    <tr>\n",
       "      <th>0</th>\n",
       "      <td>12</td>\n",
       "      <td>129</td>\n",
       "      <td>1382580</td>\n",
       "      <td>73</td>\n",
       "      <td>63</td>\n",
       "      <td>15733</td>\n",
       "      <td>90</td>\n",
       "      <td>5</td>\n",
       "      <td>3</td>\n",
       "      <td>1</td>\n",
       "      <td>...</td>\n",
       "      <td>0.91</td>\n",
       "      <td>0.88</td>\n",
       "      <td>0.88</td>\n",
       "      <td>0.96</td>\n",
       "      <td>5</td>\n",
       "      <td>0</td>\n",
       "      <td>188</td>\n",
       "      <td>0</td>\n",
       "      <td>144</td>\n",
       "      <td>1</td>\n",
       "    </tr>\n",
       "    <tr>\n",
       "      <th>1</th>\n",
       "      <td>12</td>\n",
       "      <td>129</td>\n",
       "      <td>1382580</td>\n",
       "      <td>73</td>\n",
       "      <td>63</td>\n",
       "      <td>15733</td>\n",
       "      <td>90</td>\n",
       "      <td>5</td>\n",
       "      <td>3</td>\n",
       "      <td>1</td>\n",
       "      <td>...</td>\n",
       "      <td>1.56</td>\n",
       "      <td>2.44</td>\n",
       "      <td>0.99</td>\n",
       "      <td>0.97</td>\n",
       "      <td>5</td>\n",
       "      <td>1</td>\n",
       "      <td>0</td>\n",
       "      <td>0</td>\n",
       "      <td>135</td>\n",
       "      <td>1</td>\n",
       "    </tr>\n",
       "    <tr>\n",
       "      <th>2</th>\n",
       "      <td>12</td>\n",
       "      <td>129</td>\n",
       "      <td>1382580</td>\n",
       "      <td>73</td>\n",
       "      <td>63</td>\n",
       "      <td>15733</td>\n",
       "      <td>90</td>\n",
       "      <td>5</td>\n",
       "      <td>3</td>\n",
       "      <td>1</td>\n",
       "      <td>...</td>\n",
       "      <td>0.58</td>\n",
       "      <td>0.86</td>\n",
       "      <td>0.66</td>\n",
       "      <td>0.25</td>\n",
       "      <td>5</td>\n",
       "      <td>0</td>\n",
       "      <td>183</td>\n",
       "      <td>0</td>\n",
       "      <td>135</td>\n",
       "      <td>1</td>\n",
       "    </tr>\n",
       "    <tr>\n",
       "      <th>3</th>\n",
       "      <td>12</td>\n",
       "      <td>129</td>\n",
       "      <td>1382580</td>\n",
       "      <td>73</td>\n",
       "      <td>63</td>\n",
       "      <td>15733</td>\n",
       "      <td>90</td>\n",
       "      <td>5</td>\n",
       "      <td>3</td>\n",
       "      <td>1</td>\n",
       "      <td>...</td>\n",
       "      <td>1.10</td>\n",
       "      <td>2.07</td>\n",
       "      <td>0.82</td>\n",
       "      <td>0.27</td>\n",
       "      <td>5</td>\n",
       "      <td>1</td>\n",
       "      <td>0</td>\n",
       "      <td>0</td>\n",
       "      <td>135</td>\n",
       "      <td>1</td>\n",
       "    </tr>\n",
       "    <tr>\n",
       "      <th>4</th>\n",
       "      <td>12</td>\n",
       "      <td>129</td>\n",
       "      <td>1382581</td>\n",
       "      <td>235</td>\n",
       "      <td>64</td>\n",
       "      <td>62</td>\n",
       "      <td>70</td>\n",
       "      <td>5</td>\n",
       "      <td>3</td>\n",
       "      <td>1</td>\n",
       "      <td>...</td>\n",
       "      <td>0.78</td>\n",
       "      <td>0.51</td>\n",
       "      <td>0.97</td>\n",
       "      <td>0.96</td>\n",
       "      <td>1</td>\n",
       "      <td>0</td>\n",
       "      <td>188</td>\n",
       "      <td>0</td>\n",
       "      <td>144</td>\n",
       "      <td>1</td>\n",
       "    </tr>\n",
       "  </tbody>\n",
       "</table>\n",
       "<p>5 rows × 33 columns</p>\n",
       "</div>"
      ],
      "text/plain": [
       "   areasymbol  CoFIPS    mukey  musym  muname  muacres  Temp  tfact  \\\n",
       "0          12     129  1382580     73      63    15733    90      5   \n",
       "1          12     129  1382580     73      63    15733    90      5   \n",
       "2          12     129  1382580     73      63    15733    90      5   \n",
       "3          12     129  1382580     73      63    15733    90      5   \n",
       "4          12     129  1382581    235      64       62    70      5   \n",
       "\n",
       "   nirrcapcl  nirrcapscl  ...  Moisture  Humidity  scier  scifo  Slope  \\\n",
       "0          3           1  ...      0.91      0.88   0.88   0.96      5   \n",
       "1          3           1  ...      1.56      2.44   0.99   0.97      5   \n",
       "2          3           1  ...      0.58      0.86   0.66   0.25      5   \n",
       "3          3           1  ...      1.10      2.07   0.82   0.27      5   \n",
       "4          3           1  ...      0.78      0.51   0.97   0.96      1   \n",
       "\n",
       "   removal  Rem Res - ann avg  crop1  Rem Res - crop1  farmlndcl  \n",
       "0        0                188      0              144          1  \n",
       "1        1                  0      0              135          1  \n",
       "2        0                183      0              135          1  \n",
       "3        1                  0      0              135          1  \n",
       "4        0                188      0              144          1  \n",
       "\n",
       "[5 rows x 33 columns]"
      ]
     },
     "execution_count": 8,
     "metadata": {},
     "output_type": "execute_result"
    }
   ],
   "source": [
    "dataset.head()"
   ]
  },
  {
   "cell_type": "code",
   "execution_count": 9,
   "id": "51be9e15-206b-4850-b112-bf8da993562d",
   "metadata": {},
   "outputs": [],
   "source": [
    "X= dataset.iloc[:,3:32].values"
   ]
  },
  {
   "cell_type": "code",
   "execution_count": 10,
   "id": "93467403-4527-42f1-8807-9bc85d95938d",
   "metadata": {},
   "outputs": [],
   "source": [
    "y= dataset.iloc[:, 32].values"
   ]
  },
  {
   "cell_type": "code",
   "execution_count": 11,
   "id": "efbb6df5-010e-4471-92a8-d73e3c492cd1",
   "metadata": {},
   "outputs": [],
   "source": [
    "from sklearn.preprocessing import OneHotEncoder\n",
    "OneHotEncoder = OneHotEncoder()\n",
    "X= OneHotEncoder.fit_transform(X).toarray()\n",
    "X= X[:, 1:]"
   ]
  },
  {
   "cell_type": "code",
   "execution_count": 12,
   "id": "615107c5-372f-41fc-b4ee-e8554a77b60b",
   "metadata": {},
   "outputs": [
    {
     "data": {
      "text/html": [
       "<div>\n",
       "<style scoped>\n",
       "    .dataframe tbody tr th:only-of-type {\n",
       "        vertical-align: middle;\n",
       "    }\n",
       "\n",
       "    .dataframe tbody tr th {\n",
       "        vertical-align: top;\n",
       "    }\n",
       "\n",
       "    .dataframe thead th {\n",
       "        text-align: right;\n",
       "    }\n",
       "</style>\n",
       "<table border=\"1\" class=\"dataframe\">\n",
       "  <thead>\n",
       "    <tr style=\"text-align: right;\">\n",
       "      <th></th>\n",
       "      <th>areasymbol</th>\n",
       "      <th>CoFIPS</th>\n",
       "      <th>mukey</th>\n",
       "      <th>musym</th>\n",
       "      <th>muname</th>\n",
       "      <th>muacres</th>\n",
       "      <th>Temp</th>\n",
       "      <th>tfact</th>\n",
       "      <th>nirrcapcl</th>\n",
       "      <th>nirrcapscl</th>\n",
       "      <th>...</th>\n",
       "      <th>Moisture</th>\n",
       "      <th>Humidity</th>\n",
       "      <th>scier</th>\n",
       "      <th>scifo</th>\n",
       "      <th>Slope</th>\n",
       "      <th>removal</th>\n",
       "      <th>Rem Res - ann avg</th>\n",
       "      <th>crop1</th>\n",
       "      <th>Rem Res - crop1</th>\n",
       "      <th>farmlndcl</th>\n",
       "    </tr>\n",
       "  </thead>\n",
       "  <tbody>\n",
       "    <tr>\n",
       "      <th>0</th>\n",
       "      <td>12</td>\n",
       "      <td>129</td>\n",
       "      <td>1382580</td>\n",
       "      <td>73</td>\n",
       "      <td>63</td>\n",
       "      <td>15733</td>\n",
       "      <td>90</td>\n",
       "      <td>5</td>\n",
       "      <td>3</td>\n",
       "      <td>1</td>\n",
       "      <td>...</td>\n",
       "      <td>0.91</td>\n",
       "      <td>0.88</td>\n",
       "      <td>0.88</td>\n",
       "      <td>0.96</td>\n",
       "      <td>5</td>\n",
       "      <td>0</td>\n",
       "      <td>188</td>\n",
       "      <td>0</td>\n",
       "      <td>144</td>\n",
       "      <td>1</td>\n",
       "    </tr>\n",
       "    <tr>\n",
       "      <th>1</th>\n",
       "      <td>12</td>\n",
       "      <td>129</td>\n",
       "      <td>1382580</td>\n",
       "      <td>73</td>\n",
       "      <td>63</td>\n",
       "      <td>15733</td>\n",
       "      <td>90</td>\n",
       "      <td>5</td>\n",
       "      <td>3</td>\n",
       "      <td>1</td>\n",
       "      <td>...</td>\n",
       "      <td>1.56</td>\n",
       "      <td>2.44</td>\n",
       "      <td>0.99</td>\n",
       "      <td>0.97</td>\n",
       "      <td>5</td>\n",
       "      <td>1</td>\n",
       "      <td>0</td>\n",
       "      <td>0</td>\n",
       "      <td>135</td>\n",
       "      <td>1</td>\n",
       "    </tr>\n",
       "    <tr>\n",
       "      <th>2</th>\n",
       "      <td>12</td>\n",
       "      <td>129</td>\n",
       "      <td>1382580</td>\n",
       "      <td>73</td>\n",
       "      <td>63</td>\n",
       "      <td>15733</td>\n",
       "      <td>90</td>\n",
       "      <td>5</td>\n",
       "      <td>3</td>\n",
       "      <td>1</td>\n",
       "      <td>...</td>\n",
       "      <td>0.58</td>\n",
       "      <td>0.86</td>\n",
       "      <td>0.66</td>\n",
       "      <td>0.25</td>\n",
       "      <td>5</td>\n",
       "      <td>0</td>\n",
       "      <td>183</td>\n",
       "      <td>0</td>\n",
       "      <td>135</td>\n",
       "      <td>1</td>\n",
       "    </tr>\n",
       "    <tr>\n",
       "      <th>3</th>\n",
       "      <td>12</td>\n",
       "      <td>129</td>\n",
       "      <td>1382580</td>\n",
       "      <td>73</td>\n",
       "      <td>63</td>\n",
       "      <td>15733</td>\n",
       "      <td>90</td>\n",
       "      <td>5</td>\n",
       "      <td>3</td>\n",
       "      <td>1</td>\n",
       "      <td>...</td>\n",
       "      <td>1.10</td>\n",
       "      <td>2.07</td>\n",
       "      <td>0.82</td>\n",
       "      <td>0.27</td>\n",
       "      <td>5</td>\n",
       "      <td>1</td>\n",
       "      <td>0</td>\n",
       "      <td>0</td>\n",
       "      <td>135</td>\n",
       "      <td>1</td>\n",
       "    </tr>\n",
       "    <tr>\n",
       "      <th>4</th>\n",
       "      <td>12</td>\n",
       "      <td>129</td>\n",
       "      <td>1382581</td>\n",
       "      <td>235</td>\n",
       "      <td>64</td>\n",
       "      <td>62</td>\n",
       "      <td>70</td>\n",
       "      <td>5</td>\n",
       "      <td>3</td>\n",
       "      <td>1</td>\n",
       "      <td>...</td>\n",
       "      <td>0.78</td>\n",
       "      <td>0.51</td>\n",
       "      <td>0.97</td>\n",
       "      <td>0.96</td>\n",
       "      <td>1</td>\n",
       "      <td>0</td>\n",
       "      <td>188</td>\n",
       "      <td>0</td>\n",
       "      <td>144</td>\n",
       "      <td>1</td>\n",
       "    </tr>\n",
       "  </tbody>\n",
       "</table>\n",
       "<p>5 rows × 33 columns</p>\n",
       "</div>"
      ],
      "text/plain": [
       "   areasymbol  CoFIPS    mukey  musym  muname  muacres  Temp  tfact  \\\n",
       "0          12     129  1382580     73      63    15733    90      5   \n",
       "1          12     129  1382580     73      63    15733    90      5   \n",
       "2          12     129  1382580     73      63    15733    90      5   \n",
       "3          12     129  1382580     73      63    15733    90      5   \n",
       "4          12     129  1382581    235      64       62    70      5   \n",
       "\n",
       "   nirrcapcl  nirrcapscl  ...  Moisture  Humidity  scier  scifo  Slope  \\\n",
       "0          3           1  ...      0.91      0.88   0.88   0.96      5   \n",
       "1          3           1  ...      1.56      2.44   0.99   0.97      5   \n",
       "2          3           1  ...      0.58      0.86   0.66   0.25      5   \n",
       "3          3           1  ...      1.10      2.07   0.82   0.27      5   \n",
       "4          3           1  ...      0.78      0.51   0.97   0.96      1   \n",
       "\n",
       "   removal  Rem Res - ann avg  crop1  Rem Res - crop1  farmlndcl  \n",
       "0        0                188      0              144          1  \n",
       "1        1                  0      0              135          1  \n",
       "2        0                183      0              135          1  \n",
       "3        1                  0      0              135          1  \n",
       "4        0                188      0              144          1  \n",
       "\n",
       "[5 rows x 33 columns]"
      ]
     },
     "execution_count": 12,
     "metadata": {},
     "output_type": "execute_result"
    }
   ],
   "source": [
    "dataset.head()"
   ]
  },
  {
   "cell_type": "markdown",
   "id": "d961e8dd-ca2c-4681-9392-c36af3138996",
   "metadata": {},
   "source": [
    "Feature selection"
   ]
  },
  {
   "cell_type": "code",
   "execution_count": 13,
   "id": "13a8aaef-5238-4437-bbdd-f29fd0af6313",
   "metadata": {},
   "outputs": [
    {
     "name": "stdout",
     "output_type": "stream",
     "text": [
      "Selected Features: Index(['Temp', 'tfact', 'nirrcapcl', 'nirrcapscl', 'irrcapcl', 'irrcapscl',\n",
      "       'awc_r', 'texdesc', 'watereros', 'Slope'],\n",
      "      dtype='object')\n"
     ]
    }
   ],
   "source": [
    "from sklearn.feature_selection import SelectKBest, f_classif\n",
    "k_best=10\n",
    "X = dataset.drop(columns='farmlndcl')\n",
    "y = dataset['farmlndcl']\n",
    "selector = SelectKBest(score_func=f_classif, k=k_best)\n",
    "X_selected = selector.fit_transform(X, y)\n",
    "selected_indices = selector.get_support(indices=True)\n",
    "selected_feature_names = X.columns[selected_indices]\n",
    "print(\"Selected Features:\", selected_feature_names)\n",
    "X_selected_df = pd.DataFrame(X_selected, columns=selected_feature_names)\n",
    "df = pd.concat([X_selected_df, y], axis=1)"
   ]
  },
  {
   "cell_type": "code",
   "execution_count": 14,
   "id": "2c198aa1-75f7-4d2b-a1a3-99021cb714ec",
   "metadata": {},
   "outputs": [
    {
     "data": {
      "text/html": [
       "<div>\n",
       "<style scoped>\n",
       "    .dataframe tbody tr th:only-of-type {\n",
       "        vertical-align: middle;\n",
       "    }\n",
       "\n",
       "    .dataframe tbody tr th {\n",
       "        vertical-align: top;\n",
       "    }\n",
       "\n",
       "    .dataframe thead th {\n",
       "        text-align: right;\n",
       "    }\n",
       "</style>\n",
       "<table border=\"1\" class=\"dataframe\">\n",
       "  <thead>\n",
       "    <tr style=\"text-align: right;\">\n",
       "      <th></th>\n",
       "      <th>Temp</th>\n",
       "      <th>tfact</th>\n",
       "      <th>nirrcapcl</th>\n",
       "      <th>nirrcapscl</th>\n",
       "      <th>irrcapcl</th>\n",
       "      <th>irrcapscl</th>\n",
       "      <th>awc_r</th>\n",
       "      <th>texdesc</th>\n",
       "      <th>watereros</th>\n",
       "      <th>Slope</th>\n",
       "      <th>farmlndcl</th>\n",
       "    </tr>\n",
       "  </thead>\n",
       "  <tbody>\n",
       "    <tr>\n",
       "      <th>0</th>\n",
       "      <td>90.0</td>\n",
       "      <td>5.0</td>\n",
       "      <td>3.0</td>\n",
       "      <td>1.0</td>\n",
       "      <td>2.0</td>\n",
       "      <td>0.0</td>\n",
       "      <td>0.15</td>\n",
       "      <td>24.0</td>\n",
       "      <td>0.30</td>\n",
       "      <td>5.0</td>\n",
       "      <td>1</td>\n",
       "    </tr>\n",
       "    <tr>\n",
       "      <th>1</th>\n",
       "      <td>90.0</td>\n",
       "      <td>5.0</td>\n",
       "      <td>3.0</td>\n",
       "      <td>1.0</td>\n",
       "      <td>2.0</td>\n",
       "      <td>0.0</td>\n",
       "      <td>0.15</td>\n",
       "      <td>24.0</td>\n",
       "      <td>0.03</td>\n",
       "      <td>5.0</td>\n",
       "      <td>1</td>\n",
       "    </tr>\n",
       "    <tr>\n",
       "      <th>2</th>\n",
       "      <td>90.0</td>\n",
       "      <td>5.0</td>\n",
       "      <td>3.0</td>\n",
       "      <td>1.0</td>\n",
       "      <td>2.0</td>\n",
       "      <td>0.0</td>\n",
       "      <td>0.15</td>\n",
       "      <td>24.0</td>\n",
       "      <td>0.86</td>\n",
       "      <td>5.0</td>\n",
       "      <td>1</td>\n",
       "    </tr>\n",
       "    <tr>\n",
       "      <th>3</th>\n",
       "      <td>90.0</td>\n",
       "      <td>5.0</td>\n",
       "      <td>3.0</td>\n",
       "      <td>1.0</td>\n",
       "      <td>2.0</td>\n",
       "      <td>0.0</td>\n",
       "      <td>0.15</td>\n",
       "      <td>24.0</td>\n",
       "      <td>0.46</td>\n",
       "      <td>5.0</td>\n",
       "      <td>1</td>\n",
       "    </tr>\n",
       "    <tr>\n",
       "      <th>4</th>\n",
       "      <td>70.0</td>\n",
       "      <td>5.0</td>\n",
       "      <td>3.0</td>\n",
       "      <td>1.0</td>\n",
       "      <td>2.0</td>\n",
       "      <td>0.0</td>\n",
       "      <td>0.15</td>\n",
       "      <td>24.0</td>\n",
       "      <td>0.08</td>\n",
       "      <td>1.0</td>\n",
       "      <td>1</td>\n",
       "    </tr>\n",
       "    <tr>\n",
       "      <th>5</th>\n",
       "      <td>70.0</td>\n",
       "      <td>5.0</td>\n",
       "      <td>3.0</td>\n",
       "      <td>1.0</td>\n",
       "      <td>2.0</td>\n",
       "      <td>0.0</td>\n",
       "      <td>0.15</td>\n",
       "      <td>24.0</td>\n",
       "      <td>0.01</td>\n",
       "      <td>1.0</td>\n",
       "      <td>1</td>\n",
       "    </tr>\n",
       "    <tr>\n",
       "      <th>6</th>\n",
       "      <td>70.0</td>\n",
       "      <td>5.0</td>\n",
       "      <td>3.0</td>\n",
       "      <td>1.0</td>\n",
       "      <td>2.0</td>\n",
       "      <td>0.0</td>\n",
       "      <td>0.15</td>\n",
       "      <td>24.0</td>\n",
       "      <td>0.22</td>\n",
       "      <td>1.0</td>\n",
       "      <td>1</td>\n",
       "    </tr>\n",
       "    <tr>\n",
       "      <th>7</th>\n",
       "      <td>70.0</td>\n",
       "      <td>5.0</td>\n",
       "      <td>3.0</td>\n",
       "      <td>1.0</td>\n",
       "      <td>2.0</td>\n",
       "      <td>0.0</td>\n",
       "      <td>0.15</td>\n",
       "      <td>24.0</td>\n",
       "      <td>0.12</td>\n",
       "      <td>1.0</td>\n",
       "      <td>1</td>\n",
       "    </tr>\n",
       "    <tr>\n",
       "      <th>8</th>\n",
       "      <td>85.0</td>\n",
       "      <td>5.0</td>\n",
       "      <td>3.0</td>\n",
       "      <td>1.0</td>\n",
       "      <td>2.0</td>\n",
       "      <td>0.0</td>\n",
       "      <td>0.15</td>\n",
       "      <td>24.0</td>\n",
       "      <td>0.15</td>\n",
       "      <td>1.0</td>\n",
       "      <td>1</td>\n",
       "    </tr>\n",
       "    <tr>\n",
       "      <th>9</th>\n",
       "      <td>85.0</td>\n",
       "      <td>5.0</td>\n",
       "      <td>3.0</td>\n",
       "      <td>1.0</td>\n",
       "      <td>2.0</td>\n",
       "      <td>0.0</td>\n",
       "      <td>0.15</td>\n",
       "      <td>24.0</td>\n",
       "      <td>0.02</td>\n",
       "      <td>1.0</td>\n",
       "      <td>1</td>\n",
       "    </tr>\n",
       "    <tr>\n",
       "      <th>10</th>\n",
       "      <td>85.0</td>\n",
       "      <td>5.0</td>\n",
       "      <td>3.0</td>\n",
       "      <td>1.0</td>\n",
       "      <td>2.0</td>\n",
       "      <td>0.0</td>\n",
       "      <td>0.15</td>\n",
       "      <td>24.0</td>\n",
       "      <td>0.40</td>\n",
       "      <td>1.0</td>\n",
       "      <td>1</td>\n",
       "    </tr>\n",
       "    <tr>\n",
       "      <th>11</th>\n",
       "      <td>85.0</td>\n",
       "      <td>5.0</td>\n",
       "      <td>3.0</td>\n",
       "      <td>1.0</td>\n",
       "      <td>2.0</td>\n",
       "      <td>0.0</td>\n",
       "      <td>0.15</td>\n",
       "      <td>24.0</td>\n",
       "      <td>0.22</td>\n",
       "      <td>1.0</td>\n",
       "      <td>1</td>\n",
       "    </tr>\n",
       "    <tr>\n",
       "      <th>12</th>\n",
       "      <td>80.0</td>\n",
       "      <td>5.0</td>\n",
       "      <td>3.0</td>\n",
       "      <td>1.0</td>\n",
       "      <td>2.0</td>\n",
       "      <td>0.0</td>\n",
       "      <td>0.15</td>\n",
       "      <td>24.0</td>\n",
       "      <td>0.44</td>\n",
       "      <td>1.0</td>\n",
       "      <td>1</td>\n",
       "    </tr>\n",
       "    <tr>\n",
       "      <th>13</th>\n",
       "      <td>80.0</td>\n",
       "      <td>5.0</td>\n",
       "      <td>3.0</td>\n",
       "      <td>1.0</td>\n",
       "      <td>2.0</td>\n",
       "      <td>0.0</td>\n",
       "      <td>0.15</td>\n",
       "      <td>24.0</td>\n",
       "      <td>0.04</td>\n",
       "      <td>1.0</td>\n",
       "      <td>1</td>\n",
       "    </tr>\n",
       "    <tr>\n",
       "      <th>14</th>\n",
       "      <td>80.0</td>\n",
       "      <td>5.0</td>\n",
       "      <td>3.0</td>\n",
       "      <td>1.0</td>\n",
       "      <td>2.0</td>\n",
       "      <td>0.0</td>\n",
       "      <td>0.15</td>\n",
       "      <td>24.0</td>\n",
       "      <td>1.31</td>\n",
       "      <td>1.0</td>\n",
       "      <td>1</td>\n",
       "    </tr>\n",
       "    <tr>\n",
       "      <th>15</th>\n",
       "      <td>80.0</td>\n",
       "      <td>5.0</td>\n",
       "      <td>3.0</td>\n",
       "      <td>1.0</td>\n",
       "      <td>2.0</td>\n",
       "      <td>0.0</td>\n",
       "      <td>0.15</td>\n",
       "      <td>24.0</td>\n",
       "      <td>0.70</td>\n",
       "      <td>1.0</td>\n",
       "      <td>1</td>\n",
       "    </tr>\n",
       "    <tr>\n",
       "      <th>16</th>\n",
       "      <td>90.0</td>\n",
       "      <td>5.0</td>\n",
       "      <td>3.0</td>\n",
       "      <td>1.0</td>\n",
       "      <td>2.0</td>\n",
       "      <td>0.0</td>\n",
       "      <td>0.15</td>\n",
       "      <td>24.0</td>\n",
       "      <td>0.75</td>\n",
       "      <td>4.0</td>\n",
       "      <td>1</td>\n",
       "    </tr>\n",
       "    <tr>\n",
       "      <th>17</th>\n",
       "      <td>90.0</td>\n",
       "      <td>5.0</td>\n",
       "      <td>3.0</td>\n",
       "      <td>1.0</td>\n",
       "      <td>2.0</td>\n",
       "      <td>0.0</td>\n",
       "      <td>0.15</td>\n",
       "      <td>24.0</td>\n",
       "      <td>0.06</td>\n",
       "      <td>4.0</td>\n",
       "      <td>1</td>\n",
       "    </tr>\n",
       "    <tr>\n",
       "      <th>18</th>\n",
       "      <td>90.0</td>\n",
       "      <td>5.0</td>\n",
       "      <td>3.0</td>\n",
       "      <td>1.0</td>\n",
       "      <td>2.0</td>\n",
       "      <td>0.0</td>\n",
       "      <td>0.15</td>\n",
       "      <td>24.0</td>\n",
       "      <td>2.20</td>\n",
       "      <td>4.0</td>\n",
       "      <td>1</td>\n",
       "    </tr>\n",
       "    <tr>\n",
       "      <th>19</th>\n",
       "      <td>90.0</td>\n",
       "      <td>5.0</td>\n",
       "      <td>3.0</td>\n",
       "      <td>1.0</td>\n",
       "      <td>2.0</td>\n",
       "      <td>0.0</td>\n",
       "      <td>0.15</td>\n",
       "      <td>24.0</td>\n",
       "      <td>1.17</td>\n",
       "      <td>4.0</td>\n",
       "      <td>1</td>\n",
       "    </tr>\n",
       "    <tr>\n",
       "      <th>20</th>\n",
       "      <td>90.0</td>\n",
       "      <td>5.0</td>\n",
       "      <td>3.0</td>\n",
       "      <td>0.0</td>\n",
       "      <td>1.0</td>\n",
       "      <td>0.0</td>\n",
       "      <td>0.19</td>\n",
       "      <td>24.0</td>\n",
       "      <td>0.08</td>\n",
       "      <td>4.0</td>\n",
       "      <td>1</td>\n",
       "    </tr>\n",
       "  </tbody>\n",
       "</table>\n",
       "</div>"
      ],
      "text/plain": [
       "    Temp  tfact  nirrcapcl  nirrcapscl  irrcapcl  irrcapscl  awc_r  texdesc  \\\n",
       "0   90.0    5.0        3.0         1.0       2.0        0.0   0.15     24.0   \n",
       "1   90.0    5.0        3.0         1.0       2.0        0.0   0.15     24.0   \n",
       "2   90.0    5.0        3.0         1.0       2.0        0.0   0.15     24.0   \n",
       "3   90.0    5.0        3.0         1.0       2.0        0.0   0.15     24.0   \n",
       "4   70.0    5.0        3.0         1.0       2.0        0.0   0.15     24.0   \n",
       "5   70.0    5.0        3.0         1.0       2.0        0.0   0.15     24.0   \n",
       "6   70.0    5.0        3.0         1.0       2.0        0.0   0.15     24.0   \n",
       "7   70.0    5.0        3.0         1.0       2.0        0.0   0.15     24.0   \n",
       "8   85.0    5.0        3.0         1.0       2.0        0.0   0.15     24.0   \n",
       "9   85.0    5.0        3.0         1.0       2.0        0.0   0.15     24.0   \n",
       "10  85.0    5.0        3.0         1.0       2.0        0.0   0.15     24.0   \n",
       "11  85.0    5.0        3.0         1.0       2.0        0.0   0.15     24.0   \n",
       "12  80.0    5.0        3.0         1.0       2.0        0.0   0.15     24.0   \n",
       "13  80.0    5.0        3.0         1.0       2.0        0.0   0.15     24.0   \n",
       "14  80.0    5.0        3.0         1.0       2.0        0.0   0.15     24.0   \n",
       "15  80.0    5.0        3.0         1.0       2.0        0.0   0.15     24.0   \n",
       "16  90.0    5.0        3.0         1.0       2.0        0.0   0.15     24.0   \n",
       "17  90.0    5.0        3.0         1.0       2.0        0.0   0.15     24.0   \n",
       "18  90.0    5.0        3.0         1.0       2.0        0.0   0.15     24.0   \n",
       "19  90.0    5.0        3.0         1.0       2.0        0.0   0.15     24.0   \n",
       "20  90.0    5.0        3.0         0.0       1.0        0.0   0.19     24.0   \n",
       "\n",
       "    watereros  Slope  farmlndcl  \n",
       "0        0.30    5.0          1  \n",
       "1        0.03    5.0          1  \n",
       "2        0.86    5.0          1  \n",
       "3        0.46    5.0          1  \n",
       "4        0.08    1.0          1  \n",
       "5        0.01    1.0          1  \n",
       "6        0.22    1.0          1  \n",
       "7        0.12    1.0          1  \n",
       "8        0.15    1.0          1  \n",
       "9        0.02    1.0          1  \n",
       "10       0.40    1.0          1  \n",
       "11       0.22    1.0          1  \n",
       "12       0.44    1.0          1  \n",
       "13       0.04    1.0          1  \n",
       "14       1.31    1.0          1  \n",
       "15       0.70    1.0          1  \n",
       "16       0.75    4.0          1  \n",
       "17       0.06    4.0          1  \n",
       "18       2.20    4.0          1  \n",
       "19       1.17    4.0          1  \n",
       "20       0.08    4.0          1  "
      ]
     },
     "execution_count": 14,
     "metadata": {},
     "output_type": "execute_result"
    }
   ],
   "source": [
    "df.head(21)"
   ]
  },
  {
   "cell_type": "code",
   "execution_count": 15,
   "id": "1cf471cb-fa35-45a6-981e-5f9e190640eb",
   "metadata": {},
   "outputs": [
    {
     "data": {
      "text/plain": [
       "(34352, 11)"
      ]
     },
     "execution_count": 15,
     "metadata": {},
     "output_type": "execute_result"
    }
   ],
   "source": [
    "df.shape"
   ]
  },
  {
   "cell_type": "code",
   "execution_count": 16,
   "id": "b1b4582d-fae0-40d2-aa56-0b374310b74d",
   "metadata": {},
   "outputs": [],
   "source": [
    "X = df.drop('farmlndcl', axis=1)\n",
    "y = df['farmlndcl']"
   ]
  },
  {
   "cell_type": "code",
   "execution_count": 17,
   "id": "75131650-c354-4769-9ea1-cf38b58d78ed",
   "metadata": {},
   "outputs": [],
   "source": [
    "from sklearn.preprocessing import StandardScaler\n",
    "sc = StandardScaler()\n",
    "X= sc.fit_transform(X)"
   ]
  },
  {
   "cell_type": "markdown",
   "id": "ad1782fb-a425-4a54-bdc0-52bb26734b4b",
   "metadata": {},
   "source": [
    "Splitting training and testing data"
   ]
  },
  {
   "cell_type": "code",
   "execution_count": 18,
   "id": "cada43d9-1f57-41c9-82c4-86d95614c33c",
   "metadata": {},
   "outputs": [],
   "source": [
    "from sklearn.model_selection import train_test_split\n",
    "X_train, X_test, y_train, y_test = train_test_split(X, y, test_size=0.2, random_state = 42)"
   ]
  },
  {
   "cell_type": "code",
   "execution_count": 19,
   "id": "a6a08be8-59a8-48c5-a1b9-437b81e4c6bc",
   "metadata": {},
   "outputs": [
    {
     "data": {
      "text/plain": [
       "((27481, 10), (6871, 10), (27481,), (6871,))"
      ]
     },
     "execution_count": 19,
     "metadata": {},
     "output_type": "execute_result"
    }
   ],
   "source": [
    "X_train.shape, X_test.shape, y_train.shape, y_test.shape"
   ]
  },
  {
   "cell_type": "markdown",
   "id": "c7066e2c-e124-47e7-9688-cd4192fa1e4d",
   "metadata": {},
   "source": [
    "SVM"
   ]
  },
  {
   "cell_type": "code",
   "execution_count": 20,
   "id": "15f06cfd-7cd9-40dc-ad38-21d02fc3d2db",
   "metadata": {},
   "outputs": [],
   "source": [
    "import pandas as pd\n",
    "import numpy as np\n",
    "import matplotlib.pyplot as plt\n",
    "from sklearn.svm import SVC \n",
    "svclassifier = SVC(kernel='linear') \n",
    "svclassifier.fit(X_train, y_train) \n",
    "y_pred = svclassifier.predict(X_test)"
   ]
  },
  {
   "cell_type": "markdown",
   "id": "d442ae2f-c728-434e-9e84-935b0e93b8f7",
   "metadata": {},
   "source": [
    "printing the values of confusion matrix of svm"
   ]
  },
  {
   "cell_type": "code",
   "execution_count": 21,
   "id": "f24224d1-84ec-471b-a610-ae309d265cfc",
   "metadata": {},
   "outputs": [
    {
     "name": "stdout",
     "output_type": "stream",
     "text": [
      "[[4337  580]\n",
      " [ 504 1450]]\n"
     ]
    }
   ],
   "source": [
    "from sklearn.metrics import confusion_matrix\n",
    "cm= confusion_matrix(y_test,y_pred) \n",
    "print(cm)"
   ]
  },
  {
   "cell_type": "markdown",
   "id": "caae4340-0c7c-48b7-b9c0-5a1562a351ec",
   "metadata": {},
   "source": [
    "plotting confusion matrix of svm"
   ]
  },
  {
   "cell_type": "code",
   "execution_count": 22,
   "id": "f86d9b7d-3c09-4e2e-ab25-771a797f1470",
   "metadata": {},
   "outputs": [
    {
     "data": {
      "image/png": "[encoded data removed]",
      "text/plain": [
       "<Figure size 600x400 with 1 Axes>"
      ]
     },
     "metadata": {},
     "output_type": "display_data"
    }
   ],
   "source": [
    "import seaborn as sns\n",
    "def plot_confusion_matrix(conf_matrix, labels):\n",
    "    plt.figure(figsize=(6, 4))\n",
    "    sns.set(font_scale=1.2)\n",
    "    sns.heatmap(conf_matrix, annot=True, fmt='g', cmap='plasma', cbar=False,\n",
    "                xticklabels=labels, yticklabels=labels)\n",
    "    plt.xlabel('Predicted labels')\n",
    "    plt.ylabel('True labels')\n",
    "    plt.title('Confusion Matrix of SVM')\n",
    "    plt.show()\n",
    "confusion_matrix_data = np.array([[4337, 580],\n",
    "                                   [504, 1450]])\n",
    "class_labels = ['Negative', 'Positive']\n",
    "plot_confusion_matrix(confusion_matrix_data, class_labels)"
   ]
  },
  {
   "cell_type": "markdown",
   "id": "60e7668a-a752-46fb-bc0a-eedca9eaa7ad",
   "metadata": {},
   "source": [
    "precision_score, f1_score, recall_score, accuracy_score of SVM"
   ]
  },
  {
   "cell_type": "code",
   "execution_count": 23,
   "id": "6304499f-3caa-4693-bdd7-c737f77f1dd7",
   "metadata": {},
   "outputs": [
    {
     "name": "stdout",
     "output_type": "stream",
     "text": [
      "Precision: 0.7142857142857143\n",
      "Recall: 0.7420675537359263\n",
      "F1 Score: 0.7279116465863453\n",
      "Accuracy: 0.8422354824625237\n"
     ]
    }
   ],
   "source": [
    "from sklearn.metrics import precision_score, f1_score, recall_score, accuracy_score\n",
    "precision = precision_score(y_test, y_pred)\n",
    "print(\"Precision:\", precision)\n",
    "recall = recall_score(y_test, y_pred)\n",
    "print(\"Recall:\", recall)\n",
    "f1 = f1_score(y_test, y_pred)\n",
    "print(\"F1 Score:\", f1)\n",
    "acc_score = accuracy_score(y_test, y_pred)\n",
    "print(f'Accuracy: {acc_score}')"
   ]
  },
  {
   "cell_type": "code",
   "execution_count": 24,
   "id": "dfd4b721-12b9-4975-832e-19abed84bdde",
   "metadata": {},
   "outputs": [
    {
     "data": {
      "image/png": "[encoded data removed]",
      "text/plain": [
       "<Figure size 800x600 with 1 Axes>"
      ]
     },
     "metadata": {},
     "output_type": "display_data"
    }
   ],
   "source": [
    "import matplotlib.pyplot as plt\n",
    "algorithms = ['Precision', 'Recall', 'F1 Score', 'Accuracy'] \n",
    "accuracy_scores = [0.71, 0.74, 0.72, 0.84]         \n",
    "plt.figure(figsize=(8, 6))\n",
    "plt.bar(algorithms, accuracy_scores, color=['red', 'yellow', 'green', 'blue'])\n",
    "plt.title('Performance metrics of SVM')\n",
    "plt.ylim(0.5, 1.0)\n",
    "for i in range(len(algorithms)):\n",
    "    plt.text(i, accuracy_scores[i], f'{accuracy_scores[i]:.2f}', ha='center', va='bottom')\n",
    "plt.tight_layout()\n",
    "plt.show()"
   ]
  },
  {
   "cell_type": "markdown",
   "id": "b2b3d598-6da9-4336-9fb4-ade77bbdb9e7",
   "metadata": {},
   "source": [
    "Random Forest"
   ]
  },
  {
   "cell_type": "code",
   "execution_count": 25,
   "id": "05033a6a-47da-4ad7-b33c-13493e9ec510",
   "metadata": {},
   "outputs": [],
   "source": [
    "from sklearn.ensemble import RandomForestClassifier\n",
    "classifier=RandomForestClassifier(max_depth=2, random_state=0) \n",
    "classifier.fit(X_train, y_train)\n",
    "y_pred = classifier.predict(X_test)"
   ]
  },
  {
   "cell_type": "markdown",
   "id": "e003014d-0d66-4783-b87a-a54f69f018f0",
   "metadata": {},
   "source": [
    "Printing the values of confusion matrix of random forest"
   ]
  },
  {
   "cell_type": "code",
   "execution_count": 26,
   "id": "284ff8f8-d2b7-4cb0-92ac-5a720a46ed9d",
   "metadata": {},
   "outputs": [
    {
     "name": "stdout",
     "output_type": "stream",
     "text": [
      "[[4701  216]\n",
      " [ 883 1071]]\n"
     ]
    }
   ],
   "source": [
    "cm= confusion_matrix(y_test,y_pred) \n",
    "print(cm)"
   ]
  },
  {
   "cell_type": "markdown",
   "id": "473d3c39-8bee-4853-942c-b249bd6d0509",
   "metadata": {},
   "source": [
    "Plotting of confusion matrix of random forest"
   ]
  },
  {
   "cell_type": "code",
   "execution_count": 27,
   "id": "7bf8bcd2-29ca-4df1-af4b-e1f20e66836f",
   "metadata": {},
   "outputs": [
    {
     "data": {
      "image/png": "[encoded data removed]",
      "text/plain": [
       "<Figure size 600x400 with 1 Axes>"
      ]
     },
     "metadata": {},
     "output_type": "display_data"
    }
   ],
   "source": [
    "import seaborn as sns\n",
    "def plot_confusion_matrix(conf_matrix, labels):\n",
    "    plt.figure(figsize=(6, 4))\n",
    "    sns.set(font_scale=1.2)\n",
    "    sns.heatmap(conf_matrix, annot=True, fmt='g', cmap='plasma', cbar=False,\n",
    "                xticklabels=labels, yticklabels=labels)\n",
    "    plt.xlabel('Predicted labels')\n",
    "    plt.ylabel('True labels')\n",
    "    plt.title('Confusion Matrix of Random Forest')\n",
    "    plt.show()\n",
    "confusion_matrix_data = np.array([[4701, 216],\n",
    "                                   [883, 1071]])\n",
    "class_labels = ['Negative', 'Positive']\n",
    "plot_confusion_matrix(confusion_matrix_data, class_labels)"
   ]
  },
  {
   "cell_type": "markdown",
   "id": "6b5744ad-f9e8-407d-ba37-f8b912d57f79",
   "metadata": {},
   "source": [
    "precision_score, f1_score, recall_score, accuracy_score of Random Forest"
   ]
  },
  {
   "cell_type": "code",
   "execution_count": 28,
   "id": "e736223f-3a06-4b82-b763-19ee5ed7fb67",
   "metadata": {},
   "outputs": [
    {
     "name": "stdout",
     "output_type": "stream",
     "text": [
      "Precision: 0.8321678321678322\n",
      "Recall: 0.5481064483111566\n",
      "F1 Score: 0.6609071274298055\n",
      "Accuracy: 0.8400523941202154\n"
     ]
    }
   ],
   "source": [
    "from sklearn.metrics import precision_score, f1_score, recall_score, accuracy_score\n",
    "precision = precision_score(y_test, y_pred)\n",
    "print(\"Precision:\", precision)\n",
    "recall = recall_score(y_test, y_pred)\n",
    "print(\"Recall:\", recall)\n",
    "f1 = f1_score(y_test, y_pred)\n",
    "print(\"F1 Score:\", f1)\n",
    "acc_score = accuracy_score(y_test, y_pred)\n",
    "print(f'Accuracy: {acc_score}')"
   ]
  },
  {
   "cell_type": "code",
   "execution_count": 29,
   "id": "d9bd0449-f1fe-4bf2-a258-f07e647c986c",
   "metadata": {},
   "outputs": [
    {
     "data": {
      "image/png": "[encoded data removed]",
      "text/plain": [
       "<Figure size 800x600 with 1 Axes>"
      ]
     },
     "metadata": {},
     "output_type": "display_data"
    }
   ],
   "source": [
    "import matplotlib.pyplot as plt\n",
    "algorithms = ['Precision', 'Recall', 'F1 Score', 'Accuracy'] \n",
    "accuracy_scores = [0.83, 0.54, 0.66, 0.84]         \n",
    "plt.figure(figsize=(8, 6))\n",
    "plt.bar(algorithms, accuracy_scores, color=['red', 'yellow', 'green', 'blue'])\n",
    "plt.title('Performance metrics of Random Forest')\n",
    "plt.ylim(0.5, 1.0)\n",
    "for i in range(len(algorithms)):\n",
    "    plt.text(i, accuracy_scores[i], f'{accuracy_scores[i]:.2f}', ha='center', va='bottom')\n",
    "plt.tight_layout()\n",
    "plt.show()"
   ]
  },
  {
   "cell_type": "markdown",
   "id": "c6826adb-3c04-40cc-9cf8-d8ac12d73af4",
   "metadata": {},
   "source": [
    "RNN"
   ]
  },
  {
   "cell_type": "code",
   "execution_count": 71,
   "id": "06952a57-d099-4056-a613-acce8285d070",
   "metadata": {},
   "outputs": [
    {
     "name": "stdout",
     "output_type": "stream",
     "text": [
      "Epoch 1/20\n",
      "344/344 [==============================] - 2s 5ms/step - loss: 0.5580 - accuracy: 0.6984 - val_loss: 0.4244 - val_accuracy: 0.7695\n",
      "Epoch 2/20\n",
      "344/344 [==============================] - 1s 4ms/step - loss: 0.3647 - accuracy: 0.8251 - val_loss: 0.3258 - val_accuracy: 0.8401\n",
      "Epoch 3/20\n",
      "344/344 [==============================] - 1s 4ms/step - loss: 0.3336 - accuracy: 0.8468 - val_loss: 0.3137 - val_accuracy: 0.8510\n",
      "Epoch 4/20\n",
      "344/344 [==============================] - 2s 4ms/step - loss: 0.3250 - accuracy: 0.8504 - val_loss: 0.3063 - val_accuracy: 0.8568\n",
      "Epoch 5/20\n",
      "344/344 [==============================] - 2s 6ms/step - loss: 0.3159 - accuracy: 0.8570 - val_loss: 0.3005 - val_accuracy: 0.8588\n",
      "Epoch 6/20\n",
      "344/344 [==============================] - 2s 5ms/step - loss: 0.3074 - accuracy: 0.8589 - val_loss: 0.2929 - val_accuracy: 0.8637\n",
      "Epoch 7/20\n",
      "344/344 [==============================] - 2s 4ms/step - loss: 0.3026 - accuracy: 0.8620 - val_loss: 0.2878 - val_accuracy: 0.8674\n",
      "Epoch 8/20\n",
      "344/344 [==============================] - 2s 6ms/step - loss: 0.2951 - accuracy: 0.8685 - val_loss: 0.2832 - val_accuracy: 0.8739\n",
      "Epoch 9/20\n",
      "344/344 [==============================] - 1s 4ms/step - loss: 0.2924 - accuracy: 0.8674 - val_loss: 0.2780 - val_accuracy: 0.8716\n",
      "Epoch 10/20\n",
      "344/344 [==============================] - 1s 4ms/step - loss: 0.2872 - accuracy: 0.8721 - val_loss: 0.2743 - val_accuracy: 0.8774\n",
      "Epoch 11/20\n",
      "344/344 [==============================] - 1s 4ms/step - loss: 0.2821 - accuracy: 0.8731 - val_loss: 0.2731 - val_accuracy: 0.8745\n",
      "Epoch 12/20\n",
      "344/344 [==============================] - 1s 4ms/step - loss: 0.2787 - accuracy: 0.8770 - val_loss: 0.2672 - val_accuracy: 0.8798\n",
      "Epoch 13/20\n",
      "344/344 [==============================] - 2s 5ms/step - loss: 0.2754 - accuracy: 0.8778 - val_loss: 0.2636 - val_accuracy: 0.8821\n",
      "Epoch 14/20\n",
      "344/344 [==============================] - 2s 5ms/step - loss: 0.2730 - accuracy: 0.8801 - val_loss: 0.2617 - val_accuracy: 0.8816\n",
      "Epoch 15/20\n",
      "344/344 [==============================] - 2s 5ms/step - loss: 0.2691 - accuracy: 0.8801 - val_loss: 0.2604 - val_accuracy: 0.8818\n",
      "Epoch 16/20\n",
      "344/344 [==============================] - 2s 5ms/step - loss: 0.2642 - accuracy: 0.8827 - val_loss: 0.2553 - val_accuracy: 0.8839\n",
      "Epoch 17/20\n",
      "344/344 [==============================] - 2s 4ms/step - loss: 0.2603 - accuracy: 0.8864 - val_loss: 0.2538 - val_accuracy: 0.8839\n",
      "Epoch 18/20\n",
      "344/344 [==============================] - 2s 4ms/step - loss: 0.2591 - accuracy: 0.8854 - val_loss: 0.2495 - val_accuracy: 0.8908\n",
      "Epoch 19/20\n",
      "344/344 [==============================] - 2s 5ms/step - loss: 0.2577 - accuracy: 0.8869 - val_loss: 0.2463 - val_accuracy: 0.8914\n",
      "Epoch 20/20\n",
      "344/344 [==============================] - 2s 5ms/step - loss: 0.2512 - accuracy: 0.8901 - val_loss: 0.2438 - val_accuracy: 0.8874\n",
      "Shape of y_pred: (6871, 1)\n"
     ]
    }
   ],
   "source": [
    "import numpy as np\n",
    "import tensorflow as tf\n",
    "np.random.seed(42)\n",
    "tf.random.set_seed(42)\n",
    "output_dim = 1\n",
    "time_steps = X_train.shape[1]\n",
    "learning_rate = 0.0001  \n",
    "dropout_rate = 0.3   \n",
    "batch_size = 64\n",
    "epochs = 20\n",
    "X_train = X_train.reshape(X_train.shape[0], X_train.shape[1], 1)\n",
    "input_layer = tf.keras.Input(shape=(time_steps, 1), dtype=tf.float32)\n",
    "initial_state = tf.keras.Input(shape=(64,), dtype=tf.float32)  \n",
    "rnn_layer = tf.keras.layers.SimpleRNN(64, activation='relu', return_sequences=False)(input_layer, initial_state=initial_state)\n",
    "dropout_layer = tf.keras.layers.Dropout(dropout_rate)(rnn_layer)\n",
    "output_layer = tf.keras.layers.Dense(1, activation='sigmoid')(dropout_layer)\n",
    "model = tf.keras.Model(inputs=[input_layer, initial_state], outputs=output_layer)\n",
    "optimizer = tf.keras.optimizers.Adam(learning_rate=learning_rate) \n",
    "model.compile(optimizer=optimizer, loss='binary_crossentropy', metrics=['accuracy'])\n",
    "model.fit([X_train, np.zeros((X_train.shape[0], 64))], y_train, epochs=epochs, batch_size=batch_size, validation_split=0.2) \n",
    "y_pred = model.predict([X_test, np.zeros((X_test.shape[0], 64))])\n",
    "print(\"Shape of y_pred:\", y_pred.shape)"
   ]
  },
  {
   "cell_type": "code",
   "execution_count": 72,
   "id": "9a64f859-504e-483e-822a-085b1e211685",
   "metadata": {},
   "outputs": [
    {
     "name": "stdout",
     "output_type": "stream",
     "text": [
      "Shape of y_test: (6871,)\n",
      "Shape of y_pred: (6871, 1)\n"
     ]
    }
   ],
   "source": [
    "print(\"Shape of y_test:\", y_test.shape)\n",
    "print(\"Shape of y_pred:\", y_pred.shape)"
   ]
  },
  {
   "cell_type": "markdown",
   "id": "68e32bc6-a160-4de7-91b5-34a1bfc46d91",
   "metadata": {},
   "source": [
    "Plotting the confusion matrix of RNN"
   ]
  },
  {
   "cell_type": "code",
   "execution_count": 76,
   "id": "d8100f8e-1975-4ed1-9af6-ddbb50cf5530",
   "metadata": {},
   "outputs": [
    {
     "data": {
      "image/png": "[encoded data removed]",
      "text/plain": [
       "<Figure size 600x400 with 1 Axes>"
      ]
     },
     "metadata": {},
     "output_type": "display_data"
    }
   ],
   "source": [
    "import seaborn as sns\n",
    "def plot_confusion_matrix(conf_matrix, labels):\n",
    "    plt.figure(figsize=(6, 4))\n",
    "    sns.set(font_scale=1.2)\n",
    "    sns.heatmap(conf_matrix, annot=True, fmt='g', cmap='plasma', cbar=False,\n",
    "                xticklabels=labels, yticklabels=labels)\n",
    "    plt.xlabel('Predicted labels')\n",
    "    plt.ylabel('True labels')\n",
    "    plt.title('Confusion Matrix of RNN')\n",
    "    plt.show()\n",
    "confusion_matrix_data = np.array([[4571, 346],\n",
    "                                   [378, 1576]])\n",
    "class_labels = ['Negative', 'Positive']\n",
    "plot_confusion_matrix(confusion_matrix_data, class_labels)"
   ]
  },
  {
   "cell_type": "markdown",
   "id": "10fd6d3f-dac2-4657-a3ec-e10f372a8e97",
   "metadata": {},
   "source": [
    "precision_score, f1_score, recall_score, accuracy_score of RNN"
   ]
  },
  {
   "cell_type": "code",
   "execution_count": 77,
   "id": "1b083201-4126-4811-ad72-958747467d09",
   "metadata": {},
   "outputs": [
    {
     "name": "stdout",
     "output_type": "stream",
     "text": [
      "Precision: 0.7940421160760144\n",
      "Recall: 0.7911975435005117\n",
      "F1-score: 0.7926172776211228\n",
      "Accuracy: 0.882258768738175\n"
     ]
    }
   ],
   "source": [
    "import numpy as np\n",
    "from sklearn.metrics import precision_score, recall_score, f1_score, accuracy_score\n",
    "\n",
    "# Squeeze the y_pred array to remove the extra dimension\n",
    "y_pred_squeezed = np.squeeze(y_pred, axis=-1)\n",
    "\n",
    "# Compute precision, recall, f1-score, and accuracy\n",
    "precision = precision_score(y_test, y_pred_squeezed.round())\n",
    "recall = recall_score(y_test, y_pred_squeezed.round())\n",
    "f1 = f1_score(y_test, y_pred_squeezed.round())\n",
    "accuracy = accuracy_score(y_test, y_pred_squeezed.round())\n",
    "\n",
    "print(\"Precision:\", precision)\n",
    "print(\"Recall:\", recall)\n",
    "print(\"F1-score:\", f1)\n",
    "print(\"Accuracy:\", accuracy)\n"
   ]
  },
  {
   "cell_type": "code",
   "execution_count": 78,
   "id": "b47dd256-da64-4f36-86ee-7c68011e2f3e",
   "metadata": {},
   "outputs": [
    {
     "data": {
      "image/png": "[encoded data removed]",
      "text/plain": [
       "<Figure size 800x600 with 1 Axes>"
      ]
     },
     "metadata": {},
     "output_type": "display_data"
    }
   ],
   "source": [
    "import matplotlib.pyplot as plt\n",
    "algorithms = ['Precision', 'Recall', 'F1 Score', 'Accuracy'] \n",
    "accuracy_scores = [0.79, 0.80, 0.80, 0.88]         \n",
    "plt.figure(figsize=(8, 6))\n",
    "plt.bar(algorithms, accuracy_scores, color=['red', 'yellow', 'green', 'blue'])\n",
    "plt.title('Performance metrics of RNN')\n",
    "plt.ylim(0.5, 1.0)\n",
    "for i in range(len(algorithms)):\n",
    "    plt.text(i, accuracy_scores[i], f'{accuracy_scores[i]:.2f}', ha='center', va='bottom')\n",
    "plt.tight_layout()\n",
    "plt.show()"
   ]
  },
  {
   "cell_type": "markdown",
   "id": "58e45376-5e0e-4afa-ab72-c1ecaf1cf00c",
   "metadata": {},
   "source": [
    "DNN"
   ]
  },
  {
   "cell_type": "code",
   "execution_count": 79,
   "id": "8d54e805-b4b7-454f-b63e-7ea9067e2528",
   "metadata": {},
   "outputs": [],
   "source": [
    "import numpy as np\n",
    "from sklearn.neural_network import MLPClassifier\n",
    "num_samples, time_steps, num_features = X_train.shape\n",
    "X_train_2d = X_train.reshape(num_samples, -1)\n",
    "dnn_model = MLPClassifier(hidden_layer_sizes=(100,), max_iter=1000)\n",
    "dnn_model.fit(X_train_2d, y_train)\n",
    "X_test_2d = X_test.reshape(X_test.shape[0], -1)\n",
    "y_pred = dnn_model.predict(X_test_2d)"
   ]
  },
  {
   "cell_type": "markdown",
   "id": "b2c2f8f5-6052-4ade-903a-9efa14fd45b4",
   "metadata": {},
   "source": [
    "Printing the values of Confusion matrix of DNN"
   ]
  },
  {
   "cell_type": "code",
   "execution_count": 80,
   "id": "4f13041f-fad7-4b86-a132-5fe7562916cb",
   "metadata": {},
   "outputs": [
    {
     "name": "stdout",
     "output_type": "stream",
     "text": [
      "[[4823   94]\n",
      " [ 100 1854]]\n"
     ]
    }
   ],
   "source": [
    "cm= confusion_matrix(y_test,y_pred) \n",
    "print(cm)"
   ]
  },
  {
   "cell_type": "markdown",
   "id": "1cf50712-5c82-455f-93f7-ae889d2949b3",
   "metadata": {},
   "source": [
    "Plotting the confusion matrix of DNN"
   ]
  },
  {
   "cell_type": "code",
   "execution_count": 81,
   "id": "c2147aac-b632-4b5d-bfc7-1849c0e57be7",
   "metadata": {},
   "outputs": [
    {
     "data": {
      "image/png": "[encoded data removed]",
      "text/plain": [
       "<Figure size 600x400 with 1 Axes>"
      ]
     },
     "metadata": {},
     "output_type": "display_data"
    }
   ],
   "source": [
    "import seaborn as sns\n",
    "def plot_confusion_matrix(conf_matrix, labels):\n",
    "    plt.figure(figsize=(6, 4))\n",
    "    sns.set(font_scale=1.2)\n",
    "    sns.heatmap(conf_matrix, annot=True, fmt='g', cmap='plasma', cbar=False,\n",
    "                xticklabels=labels, yticklabels=labels)\n",
    "    plt.xlabel('Predicted labels')\n",
    "    plt.ylabel('True labels')\n",
    "    plt.title('Confusion Matrix of DNN')\n",
    "    plt.show()\n",
    "confusion_matrix_data = np.array([[4823, 94],\n",
    "                                   [100, 1854]])\n",
    "class_labels = ['Negative', 'Positive']\n",
    "plot_confusion_matrix(confusion_matrix_data, class_labels)"
   ]
  },
  {
   "cell_type": "markdown",
   "id": "a55a77cc-c05d-4ff6-8ff8-aa7c3f6c8f7f",
   "metadata": {},
   "source": [
    "precision_score, f1_score, recall_score, accuracy_score of DNN"
   ]
  },
  {
   "cell_type": "code",
   "execution_count": 82,
   "id": "d1430944-19d8-42be-8418-316a6fa7eeaa",
   "metadata": {},
   "outputs": [
    {
     "name": "stdout",
     "output_type": "stream",
     "text": [
      "Precision: 0.9517453798767967\n",
      "Recall: 0.9488229273285568\n",
      "F1 Score: 0.9502819067145055\n",
      "Accuracy: 0.9717653907728133\n"
     ]
    }
   ],
   "source": [
    "from sklearn.metrics import precision_score, f1_score, recall_score, accuracy_score\n",
    "precision = precision_score(y_test, y_pred)\n",
    "print(\"Precision:\", precision)\n",
    "recall = recall_score(y_test, y_pred)\n",
    "print(\"Recall:\", recall)\n",
    "f1 = f1_score(y_test, y_pred)\n",
    "print(\"F1 Score:\", f1)\n",
    "acc_score = accuracy_score(y_test, y_pred)\n",
    "print(f'Accuracy: {acc_score}')"
   ]
  },
  {
   "cell_type": "code",
   "execution_count": 83,
   "id": "a67819ef-ea2f-4b7f-b4a8-87bd017e3c64",
   "metadata": {},
   "outputs": [
    {
     "data": {
      "image/png": "[encoded data removed]",
      "text/plain": [
       "<Figure size 800x600 with 1 Axes>"
      ]
     },
     "metadata": {},
     "output_type": "display_data"
    }
   ],
   "source": [
    "import matplotlib.pyplot as plt\n",
    "algorithms = ['Precision', 'Recall', 'F1 Score', 'Accuracy'] \n",
    "accuracy_scores = [0.95, 0.94, 0.95, 0.97]         \n",
    "plt.figure(figsize=(8, 6))\n",
    "plt.bar(algorithms, accuracy_scores, color=['red', 'yellow', 'green', 'blue'])\n",
    "plt.title('Performance metrics of DNN')\n",
    "plt.ylim(0.5, 1.0)\n",
    "for i in range(len(algorithms)):\n",
    "    plt.text(i, accuracy_scores[i], f'{accuracy_scores[i]:.2f}', ha='center', va='bottom')\n",
    "plt.tight_layout()\n",
    "plt.show()"
   ]
  },
  {
   "cell_type": "markdown",
   "id": "9cb515bd-dba9-4e5d-895e-79b9a8b96a7f",
   "metadata": {},
   "source": [
    "comparision of Three algorithms"
   ]
  },
  {
   "cell_type": "code",
   "execution_count": 84,
   "id": "d500fae1-5017-424c-a357-7d8fe16a4778",
   "metadata": {},
   "outputs": [
    {
     "data": {
      "image/png": "[encoded data removed]",
      "text/plain": [
       "<Figure size 800x600 with 1 Axes>"
      ]
     },
     "metadata": {},
     "output_type": "display_data"
    }
   ],
   "source": [
    "import matplotlib.pyplot as plt\n",
    "algorithms = ['SVM', 'Random Forest', 'RNN', 'DNN'] \n",
    "accuracy_scores = [0.84, 0.84, 0.89, 0.97]         \n",
    "plt.figure(figsize=(8, 6))\n",
    "plt.bar(algorithms, accuracy_scores, color=['red', 'yellow', 'green', 'blue'])\n",
    "plt.xlabel('Algorithms')\n",
    "plt.ylabel('Accuracy')\n",
    "plt.title('Comparison of Algorithm Accuracy')\n",
    "plt.ylim(0.5, 1.0)\n",
    "for i in range(len(algorithms)):\n",
    "    plt.text(i, accuracy_scores[i], f'{accuracy_scores[i]:.2f}', ha='center', va='bottom')\n",
    "plt.tight_layout()\n",
    "plt.show()"
   ]
  }
 ],
 "metadata": {
  "kernelspec": {
   "display_name": "Python 3 (ipykernel)",
   "language": "python",
   "name": "python3"
  },
  "language_info": {
   "codemirror_mode": {
    "name": "ipython",
    "version": 3
   },
   "file_extension": ".py",
   "mimetype": "text/x-python",
   "name": "python",
   "nbconvert_exporter": "python",
   "pygments_lexer": "ipython3",
   "version": "3.8.10"
  }
 },
 "nbformat": 4,
 "nbformat_minor": 5
}
